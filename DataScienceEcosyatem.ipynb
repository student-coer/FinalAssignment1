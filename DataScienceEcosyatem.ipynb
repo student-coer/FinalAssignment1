{
 "cells": [
  {
   "cell_type": "code",
   "execution_count": null,
   "id": "bf86aed4-1cf9-4698-a8ba-e6e8510f7c6a",
   "metadata": {},
   "outputs": [],
   "source": []
  },
  {
   "cell_type": "markdown",
   "id": "26d96dee-ebc3-4b82-bb47-e449e10d4155",
   "metadata": {},
   "source": [
    "# Data Science Tools and Ecosystems"
   ]
  },
  {
   "cell_type": "markdown",
   "id": "f2524597-29c8-474d-84ce-def883d5b5f7",
   "metadata": {},
   "source": [
    "# Introduction"
   ]
  },
  {
   "cell_type": "markdown",
   "id": "adc83fa0-e733-486a-ab76-855cac9db508",
   "metadata": {},
   "source": [
    "## In this notebook, data science tools and ecosystems are summarized. "
   ]
  },
  {
   "cell_type": "markdown",
   "id": "de4fed23-f76c-4c68-9bd6-96f691a75ec9",
   "metadata": {},
   "source": [
    "## Data Science languages"
   ]
  },
  {
   "cell_type": "markdown",
   "id": "06edcd5f-ec2a-43fc-a6eb-d560a81e8f98",
   "metadata": {},
   "source": [
    "## Some of the popular languages that data scientists use are:"
   ]
  },
  {
   "cell_type": "markdown",
   "id": "4f815c21-7d18-458c-a00e-4d8a4b5fea8c",
   "metadata": {},
   "source": [
    "1. Python\n",
    "2. R\n",
    "3. Sql"
   ]
  },
  {
   "cell_type": "markdown",
   "id": "a444b758-c028-419f-b967-309c5f5fee47",
   "metadata": {},
   "source": [
    "# Some of the common libraries used by data scientists include:"
   ]
  },
  {
   "cell_type": "markdown",
   "id": "fa4bca5e-c80c-4aa9-9eea-c6aef4d94f7c",
   "metadata": {},
   "source": [
    "1. Numpy\n",
    "2. Pandas\n",
    "3. Matplotlib\n",
    "4. Scikit-learn\n",
    "5. TensorFlow\n",
    "6. Keras"
   ]
  },
  {
   "cell_type": "markdown",
   "id": "98d45e18-3cd0-4477-ade9-f105e380f9ea",
   "metadata": {},
   "source": [
    "# Table of data Science Tools"
   ]
  },
  {
   "cell_type": "markdown",
   "id": "51b83f3e-85f9-43dd-a0bb-f5c803d7ee08",
   "metadata": {},
   "source": [
    "| Data Science Tools |\n",
    "|--------------------|\n",
    "| Jupyter Notebook   |\n",
    "| Rstudio            |\n",
    "| Spyder             |"
   ]
  },
  {
   "cell_type": "markdown",
   "id": "bc2cf46b-eb03-4fdc-ba05-2d21b174f1b5",
   "metadata": {},
   "source": [
    "### Below are few examples of evaluating arithmetic expressions in python"
   ]
  },
  {
   "cell_type": "code",
   "execution_count": 1,
   "id": "80e495da-fb18-4c0d-b937-edb9210068b7",
   "metadata": {},
   "outputs": [
    {
     "name": "stdout",
     "output_type": "stream",
     "text": [
      "14\n"
     ]
    }
   ],
   "source": [
    "expression=2+3*4\n",
    "print(expression) "
   ]
  },
  {
   "cell_type": "code",
   "execution_count": 2,
   "id": "fc0f6f00-38e4-480e-a0c1-98cce2228266",
   "metadata": {},
   "outputs": [
    {
     "data": {
      "text/plain": [
       "14"
      ]
     },
     "execution_count": 2,
     "metadata": {},
     "output_type": "execute_result"
    }
   ],
   "source": [
    "2+3*4"
   ]
  },
  {
   "cell_type": "code",
   "execution_count": 3,
   "id": "52a3ac64-f6b1-4dfe-a09c-2e77e1e9ab46",
   "metadata": {},
   "outputs": [],
   "source": [
    "# This is a simple arithmetic expression \n",
    "# to multiply then add integers. "
   ]
  },
  {
   "cell_type": "code",
   "execution_count": 4,
   "id": "9a69d084-0c91-4bcb-aebe-ca56753de4bb",
   "metadata": {},
   "outputs": [
    {
     "data": {
      "text/plain": [
       "17"
      ]
     },
     "execution_count": 4,
     "metadata": {},
     "output_type": "execute_result"
    }
   ],
   "source": [
    "(3*4)+5"
   ]
  },
  {
   "cell_type": "code",
   "execution_count": 5,
   "id": "249b06d2-c82f-4294-9c6f-fa0d9ceefb5d",
   "metadata": {},
   "outputs": [],
   "source": [
    "# This will convert \n",
    "# 200 minutes into hours by dividing by \n",
    "# 60"
   ]
  },
  {
   "cell_type": "code",
   "execution_count": 6,
   "id": "f6fb87c8-506e-450f-89db-eda86f024eb8",
   "metadata": {},
   "outputs": [
    {
     "name": "stdout",
     "output_type": "stream",
     "text": [
      "3.3333333333333335\n"
     ]
    }
   ],
   "source": [
    "minutes=200\n",
    "hours=minutes/60\n",
    "print(hours) "
   ]
  },
  {
   "cell_type": "markdown",
   "id": "2ebffaf3-0eaa-415c-83c7-3c4c8df1d35d",
   "metadata": {},
   "source": [
    "## Objectives:"
   ]
  },
  {
   "cell_type": "markdown",
   "id": "197cd1be-689c-4a7c-b56c-418edea2acad",
   "metadata": {},
   "source": [
    "* List popular languages used by data     scientists\n",
    "* Data Science Tools\n",
    "* Data Science libraries\n",
    "* Arithmetic Expression"
   ]
  },
  {
   "cell_type": "markdown",
   "id": "e006b832-dbde-4ec5-8132-3470eeac3294",
   "metadata": {},
   "source": [
    "## Author\n",
    "Anshu Singh"
   ]
  },
  {
   "cell_type": "code",
   "execution_count": null,
   "id": "0dd9cced-cfbc-40a3-aa07-0ff3baf3ad18",
   "metadata": {},
   "outputs": [],
   "source": []
  }
 ],
 "metadata": {
  "kernelspec": {
   "display_name": "Python 3 (ipykernel)",
   "language": "python",
   "name": "python3"
  },
  "language_info": {
   "codemirror_mode": {
    "name": "ipython",
    "version": 3
   },
   "file_extension": ".py",
   "mimetype": "text/x-python",
   "name": "python",
   "nbconvert_exporter": "python",
   "pygments_lexer": "ipython3",
   "version": "3.11.4"
  }
 },
 "nbformat": 4,
 "nbformat_minor": 5
}
